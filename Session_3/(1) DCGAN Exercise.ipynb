{
  "cells": [
    {
      "cell_type": "markdown",
      "source": [
        "# Dataset and Pre-Processing"
      ],
      "metadata": {
        "id": "-CmPQsxypfBK"
      }
    },
    {
      "cell_type": "markdown",
      "metadata": {
        "id": "mJ5_HDdPvJ5O"
      },
      "source": [
        "Let's download the dataset !"
      ]
    },
    {
      "cell_type": "code",
      "source": [
        "import os\n",
        "%pip install wget             # to install the wget library in order to download data\n",
        "import wget\n",
        "import zipfile\n",
        "import torchvision.datasets as datasets"
      ],
      "metadata": {
        "id": "ug70P3E_RDXO"
      },
      "execution_count": null,
      "outputs": []
    },
    {
      "cell_type": "code",
      "source": [
        "data_root = \"datasets\"\n",
        "\n",
        "base_url = \"https://graal.ift.ulaval.ca/public/celeba/\"\n",
        "\n",
        "file_list = [\n",
        "    \"img_align_celeba.zip\",\n",
        "    \"list_attr_celeba.txt\",\n",
        "    \"identity_CelebA.txt\",\n",
        "    \"list_bbox_celeba.txt\",\n",
        "    \"list_landmarks_align_celeba.txt\",\n",
        "    \"list_eval_partition.txt\",\n",
        "]\n",
        "\n",
        "# Path to folder with the dataset\n",
        "dataset_folder = f\"{data_root}/celeba\"\n",
        "os.makedirs(dataset_folder, exist_ok=True)\n",
        "\n",
        "for file in file_list:\n",
        "    url = f\"{base_url}/{file}\"\n",
        "    if not os.path.exists(f\"{dataset_folder}/{file}\"):\n",
        "        wget.download(url, f\"{dataset_folder}/{file}\")\n",
        "\n",
        "with zipfile.ZipFile(f\"{dataset_folder}/img_align_celeba.zip\", \"r\") as ziphandler:\n",
        "    ziphandler.extractall(dataset_folder)"
      ],
      "metadata": {
        "id": "8FFOMVHCPxaP"
      },
      "execution_count": null,
      "outputs": []
    },
    {
      "cell_type": "code",
      "source": [
        "import torchvision.transforms as T\n",
        "\n",
        "image_size = 64\n",
        "batch_size = None # we want a batch size of 64 \n",
        "stats = (0.5, 0.5, 0.5), (0.5, 0.5, 0.5) \n",
        "\n",
        "transforms = T.Compose([T.Resize(image_size),\n",
        "    T.CenterCrop(image_size),\n",
        "    T.ToTensor(),\n",
        "    T.Normalize(*stats)])\n",
        "\n",
        "train_dataset_images = datasets.CelebA(data_root, split=\"train\", target_type=[\"attr\", \"landmarks\"])\n",
        "train_dataset = datasets.CelebA(data_root, split=\"train\", target_type=[\"attr\", \"landmarks\"], transform=transforms)\n"
      ],
      "metadata": {
        "id": "gkwX-WvkTSUR"
      },
      "execution_count": null,
      "outputs": []
    },
    {
      "cell_type": "code",
      "source": [
        "train_dataset_images[1][0]"
      ],
      "metadata": {
        "id": "1l-s4bOj5dN2"
      },
      "execution_count": null,
      "outputs": []
    },
    {
      "cell_type": "code",
      "source": [
        "from torch.utils.data import DataLoader\n",
        "train_data_loader = DataLoader(train_dataset, batch_size, shuffle=True, pin_memory=True)"
      ],
      "metadata": {
        "id": "EPCZhFuJF0NC"
      },
      "execution_count": null,
      "outputs": []
    },
    {
      "cell_type": "markdown",
      "source": [
        "# Some Useful Functions (given)"
      ],
      "metadata": {
        "id": "aKr2R0U9qT3C"
      }
    },
    {
      "cell_type": "code",
      "execution_count": null,
      "metadata": {
        "id": "AvgqdQ456Vfg"
      },
      "outputs": [],
      "source": [
        "import torch\n",
        "from torchvision.utils import make_grid\n",
        "import matplotlib.pyplot as plt\n",
        "%matplotlib inline\n",
        "def denorm(img_tensors):\n",
        "    return img_tensors * stats[1][0] + stats[0][0]\n",
        "def show_images(images, nmax=64): # to show images\n",
        "    fig, ax = plt.subplots(figsize=(8, 8))\n",
        "    ax.set_xticks([]); ax.set_yticks([])\n",
        "    ax.imshow(make_grid(denorm(images[0].detach()[:nmax]), nrow=8).permute(1, 2, 0))\n",
        "\n",
        "def show_batch(dataloader, nmax=64): # to show a batch of images (no = batch size)\n",
        "    for images in dataloader:\n",
        "        show_images(images, nmax)\n",
        "        break\n",
        "show_batch(train_data_loader)"
      ]
    },
    {
      "cell_type": "markdown",
      "source": [
        "# Device Manipulation (given)"
      ],
      "metadata": {
        "id": "8eamj_G9qnRx"
      }
    },
    {
      "cell_type": "code",
      "execution_count": null,
      "metadata": {
        "id": "j5lE9saa7bZO"
      },
      "outputs": [],
      "source": [
        "def get_default_device():\n",
        "    if torch.cuda.is_available():\n",
        "        return torch.device('cuda')\n",
        "    else:\n",
        "        return torch.device('cpu')\n",
        "    \n",
        "def to_device(data, device):\n",
        "    if isinstance(data, (list,tuple)):\n",
        "        return [to_device(x, device) for x in data]\n",
        "    return data.to(device, non_blocking=True)\n",
        "\n",
        "class DeviceDataLoader():\n",
        "    def __init__(self, dataloader, device):\n",
        "        self.dataloader = dataloader\n",
        "        self.device = device\n",
        "        \n",
        "    def __iter__(self):\n",
        "        for batch in self.dataloader: \n",
        "            yield to_device(batch, self.device)\n",
        "\n",
        "    def __len__(self):\n",
        "        return len(self.dataloader)"
      ]
    },
    {
      "cell_type": "code",
      "execution_count": null,
      "metadata": {
        "id": "0SN-UT257usS"
      },
      "outputs": [],
      "source": [
        "device = get_default_device()\n",
        "device"
      ]
    },
    {
      "cell_type": "code",
      "execution_count": null,
      "metadata": {
        "id": "TOVP_8tO70IB"
      },
      "outputs": [],
      "source": [
        "train_data_loader = DeviceDataLoader(train_data_loader, device) # this is the actual dataloader"
      ]
    },
    {
      "cell_type": "markdown",
      "metadata": {
        "id": "sCeLSKYtgwum"
      },
      "source": [
        "# Discriminator Network\n",
        "\n",
        "The discriminator takes an image as input, and tries to classify it as \"real\" or \"generated\". In this sense, it's like any other neural network. \n",
        "We'll use a convolutional neural networks (CNN) which outputs a single number output for every image. \n",
        "We'll use stride of 2 to progressively reduce the size of the output feature map."
      ]
    },
    {
      "cell_type": "markdown",
      "metadata": {
        "id": "Nxmjer4Jjgje"
      },
      "source": [
        "![image.png](data:image/png;base64,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)"
      ]
    },
    {
      "cell_type": "code",
      "source": [
        "import torch.nn as nn"
      ],
      "metadata": {
        "id": "A_Wnsq5qrDss"
      },
      "execution_count": null,
      "outputs": []
    },
    {
      "cell_type": "code",
      "execution_count": null,
      "metadata": {
        "id": "Ngzo2Tpge-D_"
      },
      "outputs": [],
      "source": [
        "discriminator = nn.Sequential(\n",
        "    # in: 3 x 64 x 64\n",
        "\n",
        "    nn.Conv2d(3, 64, kernel_size=4, stride=2, padding=1, bias=False),  # Stride denotes how many steps we are moving in each step in convolution. \n",
        "    nn.BatchNorm2d(64),                                                # Padding is a process of adding zeros to the input matrix symmetrically used to to maintain the dimension of output as in input\n",
        "    nn.LeakyReLU(0.2, inplace=True),\n",
        "    # out: 64 x 32 x 32\n",
        "\n",
        "\n",
        "    # 2D Convolution: in_channels=?, out_channels=128, kernel_size=4, stride=2, padding=1, bias=False\n",
        "    # Batch Normalization + LeakyReLU with slope 0.2\n",
        "    nn.Conv2d(None, None, kernel_size=None, stride=None, padding=None, bias=False),\n",
        "    nn.BatchNorm2d(None),\n",
        "    nn.LeakyReLU(None, inplace=True),\n",
        "    # out: 128 x 16 x 16\n",
        "\n",
        "    # write layer here\n",
        "     # 2D Convolution: in_channels=?, out_channels=256, kernel_size=4, stride=2, padding=1, bias=False\n",
        "    # Batch Normalization + LeakyReLU with slope 0.2\n",
        "    # out: 256 x 8 x 8\n",
        "\n",
        "    # write layer here\n",
        "     # 2D Convolution: in_channels=?, out_channels=512, kernel_size=4, stride=2, padding=1, bias=False\n",
        "    # Batch Normalization + LeakyReLU with slope 0.2\n",
        "    # out: 512 x 4 x 4\n",
        "\n",
        "    nn.Conv2d(512, 1, kernel_size=4, stride=1, padding=0, bias=False),\n",
        "    # out: 1 x 1 x 1\n",
        "\n",
        "    # Flatten the previous outputs\n",
        "    nn.Sigmoid())"
      ]
    },
    {
      "cell_type": "markdown",
      "metadata": {
        "id": "uz5Ds-ddfw33"
      },
      "source": [
        "# Discriminator Training\n",
        "\n"
      ]
    },
    {
      "cell_type": "markdown",
      "source": [
        "Since the discriminator is a binary classification model(Real or Fake), we can use the binary cross entropy loss function to quantify how well it is able to differentiate between real and generated images.\n",
        "\n",
        "\n",
        "Here are the steps involved in training the discriminator.\n",
        "\n",
        "We expect the discriminator to output 1 if the image was picked from the real dataset, and 0 if it was generated using the generator network.\n",
        "\n",
        "We first pass a batch of real images, and compute the loss.\n",
        "\n",
        "Then we pass a batch of fake images (generated using the generator) pass them into the discriminator, and compute the loss.\n",
        "\n",
        "Finally we add the two losses and use the overall loss to perform gradient descent to adjust the weights of the discriminator.\n",
        "\n",
        "It's important to note that we don't change the weights of the generator model while training the discriminator (opt_d only affects the discriminator.parameters())"
      ],
      "metadata": {
        "id": "sBSuwNmdyGLB"
      }
    },
    {
      "cell_type": "code",
      "execution_count": null,
      "metadata": {
        "id": "eU7qHEKffy-_"
      },
      "outputs": [],
      "source": [
        "def train_discriminator(real_images, opt_d):\n",
        "    # Clear discriminator gradients\n",
        "    opt_d.zero_grad()\n",
        "\n",
        "    # Pass real images through discriminator\n",
        "    real_preds = discriminator(real_images) # Add the forward pass\n",
        "    \n",
        "    real_targets = torch.ones(real_images.size(0), 1, device=device)\n",
        "    real_loss = F.binary_cross_entropy(real_preds, real_targets)\n",
        "    real_score = torch.mean(real_preds).item()\n",
        "    \n",
        "    # Generate fake images\n",
        "    latent = torch.randn(batch_size, latent_size, 1, 1, device=device)\n",
        "    fake_images = None # Generator forward pass\n",
        "\n",
        "    # Pass fake images through discriminator\n",
        "    fake_targets = torch.zeros(fake_images.size(0), 1, device=device)\n",
        "    fake_preds = None # discr forward pass\n",
        "    fake_loss = F.binary_cross_entropy(fake_preds, fake_targets)\n",
        "    fake_score = torch.mean(fake_preds).item()\n",
        "\n",
        "    # Update discriminator weights\n",
        "    loss = real_loss + fake_loss\n",
        "    loss.backward()\n",
        "    opt_d.step()\n",
        "    return loss.item(), real_score, fake_score\n",
        "\n",
        "discriminator = to_device(discriminator, device)"
      ]
    },
    {
      "cell_type": "markdown",
      "metadata": {
        "id": "9y9yjZ7m6LZJ"
      },
      "source": [
        "# Generator Network"
      ]
    },
    {
      "cell_type": "markdown",
      "metadata": {
        "id": "QIma22Tr6Wd3"
      },
      "source": [
        "The input to the generator is typically a vector or a matrix of random numbers (referred to as a latent tensor) which is used as a seed for generating an image. The generator will convert a latent tensor of shape (128, 1, 1) into an image tensor of shape 3 x 28 x 28. To achive this, we'll use the ConvTranspose2d layer from PyTorch, which is performs to as a transposed convolution (also referred to as a deconvolution)."
      ]
    },
    {
      "cell_type": "code",
      "execution_count": null,
      "metadata": {
        "id": "t1pRzjl06WAd"
      },
      "outputs": [],
      "source": [
        "latent_size = 128\n",
        "generator = nn.Sequential(\n",
        "    # in: latent_size x 1 x 1\n",
        "\n",
        "    nn.ConvTranspose2d(latent_size, 512, kernel_size=4, stride=1, padding=0, bias=False),\n",
        "    nn.BatchNorm2d(512),\n",
        "    nn.ReLU(True),\n",
        "    # out: 512 x 4 x 4\n",
        "\n",
        "    # Transpose convolution in_features=512, out_features=256, kernel_size=4, stride=2, padding=1\n",
        "    # Batch Norm and ReLU activation \n",
        "    nn.ConvTranspose2d(None, None, kernel_size=None, stride=None, padding=None, bias=False),\n",
        "    nn.BatchNorm2d(None),\n",
        "    nn.ReLU(True),\n",
        "    # out: 256 x 8 x 8\n",
        "\n",
        "    # 2D Convolution Transpose: in_channels=?, out_channels=128, kernel_size=4, stride=2, padding=1, bias=False\n",
        "    # Batch Normalization + ReLU\n",
        "    # out: 128 x 16 x 16\n",
        "\n",
        "    # 2D Convolution Transpose: in_channels=?, out_channels=64, kernel_size=4, stride=2, padding=1, bias=False\n",
        "    # Batch Normalization + ReLU\n",
        "    # out: 64 x 32 x 32\n",
        "\n",
        "    nn.ConvTranspose2d(64, 3, kernel_size=4, stride=2, padding=1, bias=False),\n",
        "    # Use Tanh activation\n",
        "    # out: 3 x 64 x 64\n",
        ")\n",
        "generator = to_device(generator, device)"
      ]
    },
    {
      "cell_type": "code",
      "execution_count": null,
      "metadata": {
        "id": "2jAS_wqD68QR"
      },
      "outputs": [],
      "source": [
        "# lets look at the current generated image \n",
        "\n",
        "xb = torch.randn(batch_size, latent_size, 1, 1).to(device) # random latent tensors\n",
        "fake_images = generator(xb)\n",
        "print(fake_images.shape)\n",
        "show_images(fake_images.cpu())"
      ]
    },
    {
      "cell_type": "markdown",
      "metadata": {
        "id": "CUKPY1L77TCJ"
      },
      "source": [
        "# Generator Training "
      ]
    },
    {
      "cell_type": "markdown",
      "metadata": {
        "id": "1S4qJR8X7VtE"
      },
      "source": [
        "Since the outputs of the generator are images, it's not obvious how we can train the generator. This is where we employ a rather elegant trick, which is to use the discriminator as a part of the loss function. Here's how it works:\n",
        "\n",
        "1) We generate a batch of images using the generator, pass the into the \n",
        "discriminator.\n",
        "\n",
        "2) We calculate the loss by setting the target labels to 1 i.e. real. We do this because the generator's objective is to \"fool\" the discriminator.\n",
        "\n",
        "3) We use the loss to perform gradient descent i.e. change the weights of the generator, so it gets better at generating real-like images to \"fool\" the discriminator.\n",
        "\n",
        "Here's what this looks like in code."
      ]
    },
    {
      "cell_type": "code",
      "execution_count": null,
      "metadata": {
        "id": "GkcHnIno7kH6"
      },
      "outputs": [],
      "source": [
        "def train_generator(opt_g):\n",
        "    # Clear generator gradients\n",
        "    opt_g.zero_grad()\n",
        "    \n",
        "    # Generate fake images\n",
        "    latent = torch.randn(batch_size, latent_size, 1, 1, device=device)\n",
        "    fake_images = None # Forward pass for the Generator\n",
        "    \n",
        "    # Try to fool the discriminator\n",
        "    preds = None # forward pass for discriminator\n",
        "    targets = torch.ones(batch_size, 1, device=device)\n",
        "    loss = F.binary_cross_entropy(preds, targets)\n",
        "    \n",
        "    # Update generator weights\n",
        "    # Compute the gradients using .backward() method\n",
        "    # Perform the Gradient Descent using optimizer.step() for generator optimizer\n",
        "    \n",
        "    return loss.item()"
      ]
    },
    {
      "cell_type": "markdown",
      "metadata": {
        "id": "7OiQj9lwYxDc"
      },
      "source": [
        "# Training the whole thing"
      ]
    },
    {
      "cell_type": "markdown",
      "metadata": {
        "id": "IiZSHsfFY0EP"
      },
      "source": [
        "Now that we have defined the training functions for the generator and discriminator, we are ready to code the trainer for the whole GAN."
      ]
    },
    {
      "cell_type": "code",
      "execution_count": null,
      "metadata": {
        "id": "aTEAKp29Y-r_"
      },
      "outputs": [],
      "source": [
        "import torch.nn.functional as F\n",
        "from tqdm.notebook import tqdm"
      ]
    },
    {
      "cell_type": "code",
      "execution_count": null,
      "metadata": {
        "id": "pOzILYcoZUu8"
      },
      "outputs": [],
      "source": [
        "def fit(epochs, lr, start_idx=1):\n",
        "    torch.cuda.empty_cache() # getting rid of cache to save memory\n",
        "    \n",
        "    # Losses & scores\n",
        "    losses_g = []\n",
        "    losses_d = []\n",
        "    real_scores = []\n",
        "    fake_scores = []\n",
        "    \n",
        "    # Create optimizers\n",
        "    opt_d = torch.optim.Adam(discriminator.parameters(), lr=lr, betas=(0.5, 0.999))\n",
        "    opt_g = torch.optim.Adam(generator.parameters(), lr=lr, betas=(0.5, 0.999))\n",
        "    \n",
        "    for epoch in range(epochs):\n",
        "        for i, real_images in enumerate(tqdm(train_data_loader)):\n",
        "            # Train discriminator\n",
        "            if i%3==0:\n",
        "                loss_d, real_score, fake_score = None # Add the training function for the Discrimninator\n",
        "            # Train generator\n",
        "            loss_g = None # Add the training function for the Generator\n",
        "            \n",
        "        # Record losses & scores\n",
        "        losses_g.append(loss_g)\n",
        "        losses_d.append(loss_d)\n",
        "        real_scores.append(real_score)\n",
        "        fake_scores.append(fake_score)\n",
        "        \n",
        "        # Log losses & scores (last batch)\n",
        "        print(\"Epoch [{}/{}], loss_g: {:.4f}, loss_d: {:.4f}, real_score: {:.4f}, fake_score: {:.4f}\".format(\n",
        "            epoch+1, epochs, loss_g, loss_d, real_score, fake_score))\n",
        "    \n",
        "    return losses_g, losses_d, real_scores, fake_scores"
      ]
    },
    {
      "cell_type": "markdown",
      "metadata": {
        "id": "9BOEyM-SaVoA"
      },
      "source": [
        "# Test Time !"
      ]
    },
    {
      "cell_type": "code",
      "execution_count": null,
      "metadata": {
        "id": "kPbTBjpXaVNI"
      },
      "outputs": [],
      "source": [
        "fit(epochs=None, lr=None) # set epochs and learning rate(lr)"
      ]
    },
    {
      "cell_type": "code",
      "source": [
        "xb = torch.randn(batch_size, latent_size, 1, 1).to(device)\n",
        "fake_images = None # print a fake image by running xb into generator\n",
        "print(fake_images.shape)\n",
        "show_images(fake_images.cpu())"
      ],
      "metadata": {
        "id": "nS1gzMMfvYzc"
      },
      "execution_count": null,
      "outputs": []
    }
  ],
  "metadata": {
    "colab": {
      "collapsed_sections": [],
      "provenance": [],
      "machine_shape": "hm"
    },
    "kernelspec": {
      "display_name": "Python 3",
      "name": "python3"
    },
    "language_info": {
      "name": "python"
    },
    "accelerator": "GPU"
  },
  "nbformat": 4,
  "nbformat_minor": 0
}